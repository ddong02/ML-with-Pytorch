{
 "cells": [
  {
   "cell_type": "code",
   "execution_count": null,
   "id": "6caee91f-731d-44eb-b3c5-b0e9fe68d6af",
   "metadata": {},
   "outputs": [],
   "source": [
    "### python version 3.9\n",
    "### set packages version\n",
    "\n",
    "!sudo apt upgrade\n",
    "!sudo apt install python3.9\n",
    "!sudo update-alternatives --install /usr/bin/python3 python3 /usr/bin/python3.9 1\n",
    "!sudo update-alternatives --config python3\n",
    "!sudo apt install python3-pip\n",
    "!sudo apt install python3.9-distutils\n",
    "!pip install numpy==1.21.2 scipy==1.7.0 scikit-learn==1.0 matplotlib==3.4.3 pandas==1.3.2"
   ]
  }
 ],
 "metadata": {
  "kernelspec": {
   "display_name": "Python 3 (ipykernel)",
   "language": "python",
   "name": "python3"
  },
  "language_info": {
   "codemirror_mode": {
    "name": "ipython",
    "version": 3
   },
   "file_extension": ".py",
   "mimetype": "text/x-python",
   "name": "python",
   "nbconvert_exporter": "python",
   "pygments_lexer": "ipython3",
   "version": "3.9.23"
  }
 },
 "nbformat": 4,
 "nbformat_minor": 5
}
